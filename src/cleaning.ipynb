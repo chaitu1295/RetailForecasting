{
 "cells": [
  {
   "cell_type": "code",
   "execution_count": null,
   "outputs": [],
   "source": [
    "import pandas as pd\n",
    "import seaborn as sns\n",
    "import matplotlib.pyplot as plt"
   ],
   "metadata": {
    "collapsed": false,
    "pycharm": {
     "name": "#%%\n",
     "is_executing": false
    }
   }
  },
  {
   "cell_type": "code",
   "execution_count": null,
   "outputs": [],
   "source": [
    "transaction_data=pd.read_csv('../dataset/transaction_data.csv')\n",
    "demographic_data=pd.read_csv('../dataset/hh_demographic.csv')\n",
    "product_data=pd.read_csv(\"../dataset/product.csv\")"
   ],
   "metadata": {
    "collapsed": false,
    "pycharm": {
     "name": "#%%\n",
     "is_executing": false
    }
   }
  },
  {
   "cell_type": "code",
   "execution_count": null,
   "metadata": {
    "pycharm": {
     "is_executing": false
    }
   },
   "outputs": [],
   "source": [
    "def draw_missing_data_table(df):\n",
    "    missing_count = df.isnull().sum().sort_values(ascending=False)\n",
    "    missing_percent = (df.isnull().sum()/df.isnull().count()).sort_values(ascending=False)\n",
    "    missing_data = pd.concat([missing_count, missing_percent], axis=1, keys=['Missing Count', 'Missing %'])\n",
    "    return missing_data"
   ]
  },
  {
   "cell_type": "code",
   "execution_count": null,
   "metadata": {
    "pycharm": {
     "is_executing": false
    }
   },
   "outputs": [],
   "source": [
    "transaction_data.nunique()"
   ]
  },
  {
   "cell_type": "code",
   "execution_count": null,
   "metadata": {
    "pycharm": {
     "is_executing": false
    }
   },
   "outputs": [],
   "source": [
    "transaction_data=transaction_data[['household_key','BASKET_ID','DAY','PRODUCT_ID','QUANTITY','SALES_VALUE','WEEK_NO']]"
   ]
  },
  {
   "cell_type": "code",
   "execution_count": null,
   "outputs": [],
   "source": [
    "# days=pd.date_range(start='1/1/2017', end='12/12/2018').tolist()\n",
    "# transaction_data.DAY=transaction_data.DAY.map(lambda x:days[x-1])"
   ],
   "metadata": {
    "collapsed": false,
    "pycharm": {
     "name": "#%%\n",
     "is_executing": false
    }
   }
  },
  {
   "cell_type": "code",
   "execution_count": null,
   "metadata": {
    "pycharm": {
     "is_executing": false
    }
   },
   "outputs": [],
   "source": [
    "age_map={'19-24':0,'25-34':1,'35-44':2,'45-54':3,'55-64':4,'65+':5}\n",
    "demographic_data.AGE_DESC=demographic_data.AGE_DESC.map(age_map)"
   ]
  },
  {
   "cell_type": "code",
   "execution_count": null,
   "metadata": {
    "pycharm": {
     "is_executing": false
    }
   },
   "outputs": [],
   "source": [
    "income_map={'Under 15K':0,'15-24K':1,'25-34K':2,'35-49K':3,'50-74K':4,'75-99K':5,'100-124K':6,'125-149K':7,'150-174K':8,'175-199K':9,'200-249K':10,'250K+':11}\n",
    "demographic_data.INCOME_DESC=demographic_data.INCOME_DESC.map(income_map)"
   ]
  },
  {
   "cell_type": "code",
   "execution_count": null,
   "metadata": {
    "pycharm": {
     "is_executing": false
    }
   },
   "outputs": [],
   "source": [
    "demographic_data.HOMEOWNER_DESC=demographic_data.HOMEOWNER_DESC.astype('string')"
   ]
  },
  {
   "cell_type": "code",
   "execution_count": null,
   "metadata": {
    "pycharm": {
     "is_executing": false
    }
   },
   "outputs": [],
   "source": [
    "marital_status_map={'A':'Married','B':'Single','U':'Unknown'}\n",
    "demographic_data.MARITAL_STATUS_CODE=demographic_data.MARITAL_STATUS_CODE.map(marital_status_map)\n",
    "demographic_data.MARITAL_STATUS_CODE=demographic_data.MARITAL_STATUS_CODE.astype('string')"
   ]
  },
  {
   "cell_type": "code",
   "execution_count": null,
   "metadata": {
    "pycharm": {
     "is_executing": false
    }
   },
   "outputs": [],
   "source": [
    "demographic_data['AGE_GROUP']=demographic_data.AGE_DESC\n",
    "demographic_data['INCOME_GROUP']=demographic_data.INCOME_DESC"
   ]
  },
  {
   "cell_type": "code",
   "execution_count": null,
   "metadata": {
    "pycharm": {
     "is_executing": false
    }
   },
   "outputs": [],
   "source": [
    "demographic_data=demographic_data[['household_key','AGE_GROUP', 'MARITAL_STATUS_CODE', 'INCOME_GROUP', 'HOMEOWNER_DESC', 'HOUSEHOLD_SIZE_DESC','KID_CATEGORY_DESC']]"
   ]
  },
  {
   "cell_type": "code",
   "execution_count": null,
   "metadata": {
    "pycharm": {
     "is_executing": false
    }
   },
   "outputs": [],
   "source": [
    "demographic_data.dtypes"
   ]
  },
  {
   "cell_type": "code",
   "execution_count": null,
   "metadata": {
    "pycharm": {
     "is_executing": false
    }
   },
   "outputs": [],
   "source": [
    "values=transaction_data.household_key.sort_values()\n",
    "household_keys=set(values.tolist())"
   ]
  },
  {
   "cell_type": "markdown",
   "metadata": {},
   "source": [
    "# Many Household keys missing in the demografic data!!!\n",
    "## Skipping of for now but need to definitly look at it later point of time.  "
   ],
   "execution_count": null,
   "outputs": []
  },
  {
   "cell_type": "code",
   "execution_count": null,
   "metadata": {
    "pycharm": {
     "is_executing": false
    }
   },
   "outputs": [],
   "source": [
    "product_data.dtypes"
   ]
  },
  {
   "cell_type": "code",
   "execution_count": null,
   "metadata": {
    "pycharm": {
     "is_executing": false
    }
   },
   "outputs": [],
   "source": [
    "product_data.BRAND=product_data.BRAND.astype('string')"
   ]
  },
  {
   "cell_type": "code",
   "execution_count": null,
   "metadata": {
    "pycharm": {
     "is_executing": false
    }
   },
   "outputs": [],
   "source": [
    "department_map={\n",
    "    'GROCERY':'GROCERY',\n",
    "    'DRUG GM':'DRUG GM',\n",
    "    'PRODUCE':'PRODUCE',\n",
    "    'COSMETICS':'COSMETICS',\n",
    "    'NUTRITION':'NUTRITION',\n",
    "    'MEAT':'MEAT',\n",
    "    'MEAT-PCKGD':'MEAT-PCKGD',\n",
    "    'DELI':'DELI',\n",
    "    'PASTRY':'PASTRY',\n",
    "    'FLORAL':'FLORAL',\n",
    "    'SEAFOOD-PCKGD':'SEAFOOD-PCKGD',\n",
    "    'MISC. TRANS.':'MISC. TRANS.',\n",
    "    'SPIRITS':'SPIRITS',\n",
    "    'SEAFOOD':'SEAFOOD',\n",
    "    'GARDEN CENTER':'GARDEN CENTER',\n",
    "    'RESTAURANT':'RESTAURANT',\n",
    "    'TRAVEL & LEISUR':'TRAVEL & LEISUR',\n",
    "    'RX':'OTHERS',\n",
    "    'TOYS':'OTHERS',\n",
    "    'POSTAL CENTER':'OTHERS',\n",
    "    'PHOTO':'OTHERS',\n",
    "    'KIOSK-GAS':'OTHERS',\n",
    "    '':'OTHERS',\n",
    "    'HBC':'OTHERS',\n",
    "    'COUP/STR & MFG':'OTHERS',\n",
    "    'FROZEN GROCERY':'GROCERY',\n",
    "    'CHEF SHOPPE':'RESTAURANT',\n",
    "    'CNTRL/STORE SUP':'OTHERS',\n",
    "    'GM MERCH EXP':'OTHERS',\n",
    "    'HOUSEWARES':'OTHERS',\n",
    "    'AUTOMOTIVE':'OTHERS',\n",
    "    'ELECT &PLUMBING':'OTHERS',\n",
    "    'MISC SALES TRAN':'MISC. TRANS.',\n",
    "    'CHARITABLE CONT':'MISC. TRANS.',\n",
    "    'PROD-WHS SALES':'PRODUCE',\n",
    "    'DELI/SNACK BAR':'DELI',\n",
    "    'GRO BAKERY':'GROCERY',\n",
    "    'DAIRY DELI':'DELI',\n",
    "    'PORK':'MEAT',\n",
    "    'MEAT-WHSE':'MEAT-PCKGD',\n",
    "    'SALAD BAR':'PRODUCE',\n",
    "    'VIDEO RENTAL':'ENTERTAINMENT',\n",
    "    'VIDEO':'ENTERTAINMENT',\n",
    "    'PHARMACY SUPPLY':'DRUG GM'\n",
    "}"
   ]
  },
  {
   "cell_type": "code",
   "execution_count": null,
   "metadata": {
    "pycharm": {
     "is_executing": false
    }
   },
   "outputs": [],
   "source": [
    "product_data.DEPARTMENT=product_data.DEPARTMENT.map(department_map)\n",
    "product_data.DEPARTMENT=product_data.DEPARTMENT.fillna(\"OTHERS\")"
   ]
  },
  {
   "cell_type": "code",
   "execution_count": null,
   "metadata": {
    "pycharm": {
     "is_executing": false
    }
   },
   "outputs": [],
   "source": [
    "product_data=product_data.drop(['CURR_SIZE_OF_PRODUCT'],axis=1).rename(columns={'DEPARTMENT':'PRODUCT_TYPE','COMMODITY_DESC':'PRODUCT_DESC','SUB_COMMODITY_DESC':'SUB_PRODUCT_DESC'})"
   ]
  },
  {
   "cell_type": "code",
   "execution_count": null,
   "metadata": {
    "pycharm": {
     "is_executing": false
    }
   },
   "outputs": [],
   "source": [
    "total_data=pd.merge(transaction_data,product_data,on='PRODUCT_ID')\n",
    "#total_data=transaction_data.set_index('PRODUCT_ID').join(product_data.set_index('PRODUCT_ID'))"
   ]
  },
  {
   "cell_type": "code",
   "execution_count": null,
   "metadata": {},
   "outputs": [],
   "source": [
    "total_data[total_data.household_key==718]"
   ]
  },
  {
   "cell_type": "code",
   "execution_count": null,
   "metadata": {
    "pycharm": {
     "is_executing": false
    }
   },
   "outputs": [],
   "source": [
    "demand_products = total_data.PRODUCT_ID.value_counts().map(lambda x:x)\n",
    "total_data=total_data[total_data.PRODUCT_ID.map(lambda x: demand_products[x])>500]"
   ]
  },
  {
   "cell_type": "code",
   "execution_count": null,
   "outputs": [],
   "source": [
    "train_data=total_data.copy()\n",
    "train_data.drop(columns=['BASKET_ID', 'PRODUCT_DESC', 'SUB_PRODUCT_DESC', 'SALES_VALUE', 'BRAND', 'PRODUCT_TYPE', 'MANUFACTURER'],inplace=True)"
   ],
   "metadata": {
    "collapsed": false,
    "pycharm": {
     "name": "#%%\n",
     "is_executing": false
    }
   }
  },
  {
   "cell_type": "code",
   "execution_count": null,
   "outputs": [],
   "source": [
    "train_data.columns"
   ],
   "metadata": {
    "collapsed": false,
    "pycharm": {
     "name": "#%%\n",
     "is_executing": false
    }
   }
  },
  {
   "cell_type": "code",
   "execution_count": null,
   "outputs": [],
   "source": [
    "max_qty=pd.DataFrame(train_data.groupby(['household_key','PRODUCT_ID','DAY','WEEK_NO']).max()).reset_index().rename(columns={'QUANTITY':'MAX_QTY'})\n",
    "min_qty=pd.DataFrame(train_data.groupby(['household_key','PRODUCT_ID','DAY','WEEK_NO']).min()).reset_index().rename(columns={'QUANTITY':'MIN_QTY'})\n",
    "mean_qty=pd.DataFrame(train_data.groupby(['household_key','PRODUCT_ID','DAY','WEEK_NO']).mean()).reset_index().rename(columns={'QUANTITY':'MEAN_QTY'})"
   ],
   "metadata": {
    "collapsed": false,
    "pycharm": {
     "name": "#%%\n",
     "is_executing": false
    }
   }
  },
  {
   "cell_type": "code",
   "execution_count": null,
   "outputs": [],
   "source": [
    "train_data=train_data.merge(max_qty,on=['household_key','PRODUCT_ID','DAY','WEEK_NO'])\n",
    "train_data=train_data.merge(min_qty,on=['household_key','PRODUCT_ID','DAY','WEEK_NO'])\n",
    "train_data=train_data.merge(mean_qty,on=['household_key','PRODUCT_ID','DAY','WEEK_NO'])"
   ],
   "metadata": {
    "collapsed": false,
    "pycharm": {
     "name": "#%%\n",
     "is_executing": false
    }
   }
  },
  {
   "cell_type": "code",
   "execution_count": null,
   "metadata": {},
   "outputs": [],
   "source": [
    "train_data['last_purchase_day']=train_data.groupby(['household_key','PRODUCT_ID'])['DAY'].shift()\n",
    "train_data['days_since_last_purchase']=(train_data.DAY-train_data.last_purchase_day).fillna(-1).astype('int64')\n",
    "train_data.drop('last_purchase_day',axis=1,inplace=True)"
   ]
  },
  {
   "cell_type": "code",
   "execution_count": null,
   "metadata": {},
   "outputs": [],
   "source": [
    "# is_product=product_column.apply(str).astype('string').str.get_dummies()\n",
    "# is_product.columns = ['buys_' + col for col in is_product.columns]"
   ]
  },
  {
   "cell_type": "code",
   "execution_count": null,
   "metadata": {},
   "outputs": [],
   "source": [
    "# is_product=pd.get_dummies(train_data['PRODUCT_ID'],prefix = 'buys_',sparse=True)\n",
    "# is_product.columns = ['buys_' + col for col in is_product.columns]"
   ]
  },
  {
   "cell_type": "code",
   "execution_count": null,
   "metadata": {},
   "outputs": [],
   "source": [
    "# for id in set(train_data.PRODUCT_ID):\n",
    "#     column_name='buys_'+str(id)\n",
    "#     is_product=pd.DataFrame(train_data.PRODUCT_ID==id).rename(columns={'PRODUCT_ID':column_name})\n",
    "#     train_data=pd.concat([train_data, is_product], axis=1)"
   ]
  },
  {
   "cell_type": "code",
   "execution_count": null,
   "metadata": {},
   "outputs": [],
   "source": [
    "train_data=train_data.merge(product_data,on='PRODUCT_ID')"
   ]
  },
  {
   "cell_type": "code",
   "execution_count": null,
   "metadata": {
    "pycharm": {
     "is_executing": false
    }
   },
   "outputs": [],
   "source": [
    "train_data_demographic=pd.merge(demographic_data,train_data,on='household_key')\n",
    "train_data.rename(columns={'household_key':'customer_id'},inplace=True)\n",
    "train_data_demographic.rename(columns={'household_key':'customer_id'},inplace=True)"
   ]
  },
  {
   "cell_type": "code",
   "execution_count": null,
   "metadata": {
    "pycharm": {
     "is_executing": false
    }
   },
   "outputs": [],
   "source": [
    "train_data.to_csv(\"../data/total_data.csv\")"
   ]
  },
  {
   "cell_type": "code",
   "execution_count": null,
   "metadata": {
    "pycharm": {
     "is_executing": false
    }
   },
   "outputs": [],
   "source": [
    "train_data_demographic.to_csv(\"../data/total_data_demographic.csv\")"
   ]
  },
  {
   "cell_type": "code",
   "execution_count": null,
   "metadata": {},
   "outputs": [],
   "source": [
    "train_data.PRODUCT_ID.value_counts()"
   ]
  },
  {
   "cell_type": "code",
   "execution_count": null,
   "metadata": {},
   "outputs": [],
   "source": [
    "train_data['customer_id']"
   ]
  },
  {
   "cell_type": "code",
   "execution_count": null,
   "metadata": {},
   "outputs": [],
   "source": []
  }
 ],
 "metadata": {
  "kernelspec": {
   "display_name": "Python 3",
   "language": "python",
   "name": "python3"
  },
  "language_info": {
   "codemirror_mode": {
    "name": "ipython",
    "version": 2
   },
   "file_extension": ".py",
   "mimetype": "text/x-python",
   "name": "python",
   "nbconvert_exporter": "python",
   "pygments_lexer": "ipython2",
   "version": "3.7.6-final"
  },
  "pycharm": {
   "stem_cell": {
    "cell_type": "raw",
    "source": [],
    "metadata": {
     "collapsed": false
    }
   }
  }
 },
 "nbformat": 4,
 "nbformat_minor": 0
}