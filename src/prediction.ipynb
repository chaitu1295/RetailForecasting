{
 "cells": [
  {
   "cell_type": "code",
   "execution_count": 1,
   "outputs": [],
   "source": [
    "import pandas as pd\n",
    "import seaborn as sns\n",
    "import matplotlib.pyplot as plt\n",
    "# from fbprophet import Prophet"
   ],
   "metadata": {
    "collapsed": false,
    "pycharm": {
     "name": "#%%\n",
     "is_executing": false
    }
   }
  },
  {
   "cell_type": "code",
   "execution_count": 2,
   "metadata": {
    "pycharm": {
     "is_executing": false,
     "name": "#%%\n"
    }
   },
   "outputs": [],
   "source": [
    "total_data=pd.read_csv(\"../data/total_data.csv\",index_col=0)\n",
    "total_data_demographic=pd.read_csv(\"../data/total_data_demographic.csv\",index_col=0)"
   ]
  },
  {
   "cell_type": "code",
   "execution_count": 3,
   "metadata": {},
   "outputs": [
    {
     "output_type": "execute_result",
     "data": {
      "text/plain": "                        DAY\ncustomer_id PRODUCT_ID     \n1255        874736        1\n1418        897125        1\n            900802        1\n            903325        1\n            909714        1\n...                     ...\n900         890536      202\n1998        1053690     202\n1023        6533889     236\n1510        894236      240\n2337        1120741     240\n\n[252243 rows x 1 columns]",
      "text/html": "<div>\n<style scoped>\n    .dataframe tbody tr th:only-of-type {\n        vertical-align: middle;\n    }\n\n    .dataframe tbody tr th {\n        vertical-align: top;\n    }\n\n    .dataframe thead th {\n        text-align: right;\n    }\n</style>\n<table border=\"1\" class=\"dataframe\">\n  <thead>\n    <tr style=\"text-align: right;\">\n      <th></th>\n      <th></th>\n      <th>DAY</th>\n    </tr>\n    <tr>\n      <th>customer_id</th>\n      <th>PRODUCT_ID</th>\n      <th></th>\n    </tr>\n  </thead>\n  <tbody>\n    <tr>\n      <th>1255</th>\n      <th>874736</th>\n      <td>1</td>\n    </tr>\n    <tr>\n      <th rowspan=\"4\" valign=\"top\">1418</th>\n      <th>897125</th>\n      <td>1</td>\n    </tr>\n    <tr>\n      <th>900802</th>\n      <td>1</td>\n    </tr>\n    <tr>\n      <th>903325</th>\n      <td>1</td>\n    </tr>\n    <tr>\n      <th>909714</th>\n      <td>1</td>\n    </tr>\n    <tr>\n      <th>...</th>\n      <th>...</th>\n      <td>...</td>\n    </tr>\n    <tr>\n      <th>900</th>\n      <th>890536</th>\n      <td>202</td>\n    </tr>\n    <tr>\n      <th>1998</th>\n      <th>1053690</th>\n      <td>202</td>\n    </tr>\n    <tr>\n      <th>1023</th>\n      <th>6533889</th>\n      <td>236</td>\n    </tr>\n    <tr>\n      <th>1510</th>\n      <th>894236</th>\n      <td>240</td>\n    </tr>\n    <tr>\n      <th>2337</th>\n      <th>1120741</th>\n      <td>240</td>\n    </tr>\n  </tbody>\n</table>\n<p>252243 rows × 1 columns</p>\n</div>"
     },
     "metadata": {},
     "execution_count": 3
    }
   ],
   "source": [
    "total_data[['customer_id','PRODUCT_ID','DAY']].groupby(['customer_id','PRODUCT_ID']).count().sort_values(by='DAY')"
   ]
  },
  {
   "cell_type": "code",
   "execution_count": 4,
   "metadata": {},
   "outputs": [
    {
     "output_type": "stream",
     "name": "stderr",
     "text": "/usr/local/anaconda3/lib/python3.7/site-packages/pandas/core/generic.py:5303: SettingWithCopyWarning: \nA value is trying to be set on a copy of a slice from a DataFrame.\nTry using .loc[row_indexer,col_indexer] = value instead\n\nSee the caveats in the documentation: https://pandas.pydata.org/pandas-docs/stable/user_guide/indexing.html#returning-a-view-versus-a-copy\n  self[name] = value\n"
    }
   ],
   "source": [
    "a=total_data[['customer_id','DAY','PRODUCT_ID','WEEK_NO']]\n",
    "a.customer_id=a.customer_id.transform(lambda x: str(x))"
   ]
  },
  {
   "cell_type": "code",
   "execution_count": 5,
   "metadata": {},
   "outputs": [],
   "source": [
    "encoded = pd.get_dummies(a.customer_id,prefix='bought_by_')\n",
    "b=pd.concat([a,encoded],axis=1)"
   ]
  },
  {
   "cell_type": "code",
   "execution_count": 6,
   "metadata": {},
   "outputs": [],
   "source": [
    "# b['last_purchase_day']=b.groupby(['customer_id','PRODUCT_ID'])['DAY'].shift()"
   ]
  },
  {
   "cell_type": "code",
   "execution_count": 7,
   "metadata": {},
   "outputs": [],
   "source": [
    "b.drop('customer_id',inplace=True,axis=1)"
   ]
  },
  {
   "cell_type": "code",
   "execution_count": 8,
   "metadata": {},
   "outputs": [],
   "source": [
    "b=b.groupby(['DAY','PRODUCT_ID','WEEK_NO'],as_index=False).sum()"
   ]
  },
  {
   "cell_type": "code",
   "execution_count": 9,
   "metadata": {},
   "outputs": [],
   "source": [
    "product_data=pd.read_csv(\"../dataset/product.csv\")"
   ]
  },
  {
   "cell_type": "code",
   "execution_count": 10,
   "metadata": {},
   "outputs": [],
   "source": [
    "total_data=pd.merge(product_data[['PRODUCT_ID','DEPARTMENT','BRAND','COMMODITY_DESC','SUB_COMMODITY_DESC']],b,on='PRODUCT_ID')"
   ]
  },
  {
   "cell_type": "code",
   "execution_count": 11,
   "metadata": {},
   "outputs": [
    {
     "output_type": "execute_result",
     "data": {
      "text/plain": "        PRODUCT_ID DEPARTMENT     BRAND COMMODITY_DESC  \\\n0           819765    GROCERY   Private         CHEESE   \n1           819765    GROCERY   Private         CHEESE   \n2           819765    GROCERY   Private         CHEESE   \n3           819765    GROCERY   Private         CHEESE   \n4           819765    GROCERY   Private         CHEESE   \n...            ...        ...       ...            ...   \n263230    15926886    GROCERY  National     BAG SNACKS   \n263231    15926886    GROCERY  National     BAG SNACKS   \n263232    15926886    GROCERY  National     BAG SNACKS   \n263233    15926886    GROCERY  National     BAG SNACKS   \n263234    15926886    GROCERY  National     BAG SNACKS   \n\n                    SUB_COMMODITY_DESC  DAY  WEEK_NO  bought_by__1  \\\n0       NATURAL CHEESE EXACT WT CHUNKS   11        2             0   \n1       NATURAL CHEESE EXACT WT CHUNKS   21        4             0   \n2       NATURAL CHEESE EXACT WT CHUNKS   24        4             0   \n3       NATURAL CHEESE EXACT WT CHUNKS   26        4             0   \n4       NATURAL CHEESE EXACT WT CHUNKS   36        6             0   \n...                                ...  ...      ...           ...   \n263230                    POTATO CHIPS  707      102             0   \n263231                    POTATO CHIPS  708      102             0   \n263232                    POTATO CHIPS  709      102             0   \n263233                    POTATO CHIPS  710      102             0   \n263234                    POTATO CHIPS  711      102             0   \n\n        bought_by__10  bought_by__100  ...  bought_by__990  bought_by__991  \\\n0                   0               0  ...               0               0   \n1                   0               0  ...               0               0   \n2                   0               0  ...               0               0   \n3                   0               0  ...               0               0   \n4                   0               0  ...               0               0   \n...               ...             ...  ...             ...             ...   \n263230              0               0  ...               0               0   \n263231              0               0  ...               0               0   \n263232              0               0  ...               0               0   \n263233              0               0  ...               0               0   \n263234              0               0  ...               0               0   \n\n        bought_by__992  bought_by__993  bought_by__994  bought_by__995  \\\n0                    0               0               0               0   \n1                    0               0               0               0   \n2                    0               0               0               0   \n3                    0               0               0               0   \n4                    0               0               0               0   \n...                ...             ...             ...             ...   \n263230               0               0               0               0   \n263231               0               0               0               0   \n263232               0               0               0               0   \n263233               0               0               0               0   \n263234               0               0               0               0   \n\n        bought_by__996  bought_by__997  bought_by__998  bought_by__999  \n0                    0               0               0               0  \n1                    0               0               0               0  \n2                    0               0               0               0  \n3                    0               0               0               0  \n4                    0               0               0               0  \n...                ...             ...             ...             ...  \n263230               0               0               0               0  \n263231               0               0               0               0  \n263232               0               0               0               0  \n263233               0               0               0               0  \n263234               0               0               0               0  \n\n[263235 rows x 2489 columns]",
      "text/html": "<div>\n<style scoped>\n    .dataframe tbody tr th:only-of-type {\n        vertical-align: middle;\n    }\n\n    .dataframe tbody tr th {\n        vertical-align: top;\n    }\n\n    .dataframe thead th {\n        text-align: right;\n    }\n</style>\n<table border=\"1\" class=\"dataframe\">\n  <thead>\n    <tr style=\"text-align: right;\">\n      <th></th>\n      <th>PRODUCT_ID</th>\n      <th>DEPARTMENT</th>\n      <th>BRAND</th>\n      <th>COMMODITY_DESC</th>\n      <th>SUB_COMMODITY_DESC</th>\n      <th>DAY</th>\n      <th>WEEK_NO</th>\n      <th>bought_by__1</th>\n      <th>bought_by__10</th>\n      <th>bought_by__100</th>\n      <th>...</th>\n      <th>bought_by__990</th>\n      <th>bought_by__991</th>\n      <th>bought_by__992</th>\n      <th>bought_by__993</th>\n      <th>bought_by__994</th>\n      <th>bought_by__995</th>\n      <th>bought_by__996</th>\n      <th>bought_by__997</th>\n      <th>bought_by__998</th>\n      <th>bought_by__999</th>\n    </tr>\n  </thead>\n  <tbody>\n    <tr>\n      <th>0</th>\n      <td>819765</td>\n      <td>GROCERY</td>\n      <td>Private</td>\n      <td>CHEESE</td>\n      <td>NATURAL CHEESE EXACT WT CHUNKS</td>\n      <td>11</td>\n      <td>2</td>\n      <td>0</td>\n      <td>0</td>\n      <td>0</td>\n      <td>...</td>\n      <td>0</td>\n      <td>0</td>\n      <td>0</td>\n      <td>0</td>\n      <td>0</td>\n      <td>0</td>\n      <td>0</td>\n      <td>0</td>\n      <td>0</td>\n      <td>0</td>\n    </tr>\n    <tr>\n      <th>1</th>\n      <td>819765</td>\n      <td>GROCERY</td>\n      <td>Private</td>\n      <td>CHEESE</td>\n      <td>NATURAL CHEESE EXACT WT CHUNKS</td>\n      <td>21</td>\n      <td>4</td>\n      <td>0</td>\n      <td>0</td>\n      <td>0</td>\n      <td>...</td>\n      <td>0</td>\n      <td>0</td>\n      <td>0</td>\n      <td>0</td>\n      <td>0</td>\n      <td>0</td>\n      <td>0</td>\n      <td>0</td>\n      <td>0</td>\n      <td>0</td>\n    </tr>\n    <tr>\n      <th>2</th>\n      <td>819765</td>\n      <td>GROCERY</td>\n      <td>Private</td>\n      <td>CHEESE</td>\n      <td>NATURAL CHEESE EXACT WT CHUNKS</td>\n      <td>24</td>\n      <td>4</td>\n      <td>0</td>\n      <td>0</td>\n      <td>0</td>\n      <td>...</td>\n      <td>0</td>\n      <td>0</td>\n      <td>0</td>\n      <td>0</td>\n      <td>0</td>\n      <td>0</td>\n      <td>0</td>\n      <td>0</td>\n      <td>0</td>\n      <td>0</td>\n    </tr>\n    <tr>\n      <th>3</th>\n      <td>819765</td>\n      <td>GROCERY</td>\n      <td>Private</td>\n      <td>CHEESE</td>\n      <td>NATURAL CHEESE EXACT WT CHUNKS</td>\n      <td>26</td>\n      <td>4</td>\n      <td>0</td>\n      <td>0</td>\n      <td>0</td>\n      <td>...</td>\n      <td>0</td>\n      <td>0</td>\n      <td>0</td>\n      <td>0</td>\n      <td>0</td>\n      <td>0</td>\n      <td>0</td>\n      <td>0</td>\n      <td>0</td>\n      <td>0</td>\n    </tr>\n    <tr>\n      <th>4</th>\n      <td>819765</td>\n      <td>GROCERY</td>\n      <td>Private</td>\n      <td>CHEESE</td>\n      <td>NATURAL CHEESE EXACT WT CHUNKS</td>\n      <td>36</td>\n      <td>6</td>\n      <td>0</td>\n      <td>0</td>\n      <td>0</td>\n      <td>...</td>\n      <td>0</td>\n      <td>0</td>\n      <td>0</td>\n      <td>0</td>\n      <td>0</td>\n      <td>0</td>\n      <td>0</td>\n      <td>0</td>\n      <td>0</td>\n      <td>0</td>\n    </tr>\n    <tr>\n      <th>...</th>\n      <td>...</td>\n      <td>...</td>\n      <td>...</td>\n      <td>...</td>\n      <td>...</td>\n      <td>...</td>\n      <td>...</td>\n      <td>...</td>\n      <td>...</td>\n      <td>...</td>\n      <td>...</td>\n      <td>...</td>\n      <td>...</td>\n      <td>...</td>\n      <td>...</td>\n      <td>...</td>\n      <td>...</td>\n      <td>...</td>\n      <td>...</td>\n      <td>...</td>\n      <td>...</td>\n    </tr>\n    <tr>\n      <th>263230</th>\n      <td>15926886</td>\n      <td>GROCERY</td>\n      <td>National</td>\n      <td>BAG SNACKS</td>\n      <td>POTATO CHIPS</td>\n      <td>707</td>\n      <td>102</td>\n      <td>0</td>\n      <td>0</td>\n      <td>0</td>\n      <td>...</td>\n      <td>0</td>\n      <td>0</td>\n      <td>0</td>\n      <td>0</td>\n      <td>0</td>\n      <td>0</td>\n      <td>0</td>\n      <td>0</td>\n      <td>0</td>\n      <td>0</td>\n    </tr>\n    <tr>\n      <th>263231</th>\n      <td>15926886</td>\n      <td>GROCERY</td>\n      <td>National</td>\n      <td>BAG SNACKS</td>\n      <td>POTATO CHIPS</td>\n      <td>708</td>\n      <td>102</td>\n      <td>0</td>\n      <td>0</td>\n      <td>0</td>\n      <td>...</td>\n      <td>0</td>\n      <td>0</td>\n      <td>0</td>\n      <td>0</td>\n      <td>0</td>\n      <td>0</td>\n      <td>0</td>\n      <td>0</td>\n      <td>0</td>\n      <td>0</td>\n    </tr>\n    <tr>\n      <th>263232</th>\n      <td>15926886</td>\n      <td>GROCERY</td>\n      <td>National</td>\n      <td>BAG SNACKS</td>\n      <td>POTATO CHIPS</td>\n      <td>709</td>\n      <td>102</td>\n      <td>0</td>\n      <td>0</td>\n      <td>0</td>\n      <td>...</td>\n      <td>0</td>\n      <td>0</td>\n      <td>0</td>\n      <td>0</td>\n      <td>0</td>\n      <td>0</td>\n      <td>0</td>\n      <td>0</td>\n      <td>0</td>\n      <td>0</td>\n    </tr>\n    <tr>\n      <th>263233</th>\n      <td>15926886</td>\n      <td>GROCERY</td>\n      <td>National</td>\n      <td>BAG SNACKS</td>\n      <td>POTATO CHIPS</td>\n      <td>710</td>\n      <td>102</td>\n      <td>0</td>\n      <td>0</td>\n      <td>0</td>\n      <td>...</td>\n      <td>0</td>\n      <td>0</td>\n      <td>0</td>\n      <td>0</td>\n      <td>0</td>\n      <td>0</td>\n      <td>0</td>\n      <td>0</td>\n      <td>0</td>\n      <td>0</td>\n    </tr>\n    <tr>\n      <th>263234</th>\n      <td>15926886</td>\n      <td>GROCERY</td>\n      <td>National</td>\n      <td>BAG SNACKS</td>\n      <td>POTATO CHIPS</td>\n      <td>711</td>\n      <td>102</td>\n      <td>0</td>\n      <td>0</td>\n      <td>0</td>\n      <td>...</td>\n      <td>0</td>\n      <td>0</td>\n      <td>0</td>\n      <td>0</td>\n      <td>0</td>\n      <td>0</td>\n      <td>0</td>\n      <td>0</td>\n      <td>0</td>\n      <td>0</td>\n    </tr>\n  </tbody>\n</table>\n<p>263235 rows × 2489 columns</p>\n</div>"
     },
     "metadata": {},
     "execution_count": 11
    }
   ],
   "source": [
    "total_data"
   ]
  },
  {
   "cell_type": "code",
   "execution_count": 12,
   "metadata": {},
   "outputs": [],
   "source": [
    "# for id in set([1004906]):\n",
    "#     column_name='buys_'+str(id)\n",
    "#     is_product=pd.DataFrame(total_data.PRODUCT_ID==id).rename(columns={'PRODUCT_ID':column_name})\n",
    "#     total_data=pd.concat([total_data[['customer_id', 'DAY', 'WEEK_NO', 'days_since_last_purchase']], is_product], axis=1)"
   ]
  },
  {
   "cell_type": "code",
   "execution_count": 13,
   "outputs": [],
   "source": [
    "# total_data['ds']=total_data.DAY\n",
    "# total_data.drop('DAY',axis=1,inplace=True)"
   ],
   "metadata": {
    "collapsed": false,
    "pycharm": {
     "name": "#%%\n",
     "is_executing": false
    }
   }
  },
  {
   "cell_type": "code",
   "execution_count": 14,
   "outputs": [],
   "source": [
    "# m=Prophet()\n",
    "# m.fit(total_data)"
   ],
   "metadata": {
    "collapsed": false,
    "pycharm": {
     "name": "#%%\n",
     "is_executing": false
    }
   }
  },
  {
   "cell_type": "code",
   "execution_count": 15,
   "outputs": [],
   "source": [
    "# future_df=m.make_future_dataframe(periods=31)"
   ],
   "metadata": {
    "collapsed": false,
    "pycharm": {
     "name": "#%%\n",
     "is_executing": false
    }
   }
  },
  {
   "cell_type": "code",
   "execution_count": 16,
   "outputs": [],
   "source": [
    "# forecast=m.predict(future_df)"
   ],
   "metadata": {
    "collapsed": false,
    "pycharm": {
     "name": "#%%\n",
     "is_executing": true
    }
   }
  },
  {
   "cell_type": "code",
   "execution_count": 23,
   "metadata": {},
   "outputs": [],
   "source": [
    "def train_test_split(X,y,test_size=0.25,val_size=.2):\n",
    "    X_test_Split=int((X.shape[0])*(test_size+val_size))\n",
    "    X_val_Split=int((X.shape[0])*val_size)\n",
    "    y_test_Split=int((y.shape[0])*(test_size+val_size))\n",
    "    y_val_Split=int((y.shape[0])*val_size)\n",
    "    print(X_test_Split,X_val_Split,y_test_Split,y_val_Split)\n",
    "    X_Train=X[: -X_test_Split]\n",
    "    X_Test=X[-X_test_Split:-X_val_Split]\n",
    "    X_Val=X[-X_val_Split:]\n",
    "    y_Train=y[: -y_test_Split]\n",
    "    y_Test=y[-y_test_Split:-y_val_Split]\n",
    "    y_Val=y[-y_val_Split:]\n",
    "    return [X_Train, X_Test,X_Val, y_Train, y_Test,y_Val]"
   ]
  },
  {
   "cell_type": "code",
   "execution_count": 24,
   "metadata": {},
   "outputs": [
    {
     "output_type": "stream",
     "name": "stdout",
     "text": "105294 52647 105294 52647\n"
    }
   ],
   "source": [
    "#one hot encoding categorical data for modelling\n",
    "encoded = pd.get_dummies(total_data[total_data.columns[total_data.dtypes==object]])\n",
    "total_data_encoded = pd.concat([encoded, total_data[total_data.columns[total_data.dtypes != object]]],axis=1)\n",
    "\n",
    "X = total_data_encoded.drop('bought_by__2337',axis=1)\n",
    "y = total_data_encoded['bought_by__2337']\n",
    "\n",
    "[X_Train, X_Test,X_Val, y_Train, y_Test,y_Val] = train_test_split(X,y,test_size=0.2,val_size=.2)"
   ]
  },
  {
   "cell_type": "code",
   "execution_count": 19,
   "metadata": {},
   "outputs": [
    {
     "output_type": "error",
     "ename": "NameError",
     "evalue": "name 'X_Train' is not defined",
     "traceback": [
      "\u001b[0;31m---------------------------------------------------------------------------\u001b[0m",
      "\u001b[0;31mNameError\u001b[0m                                 Traceback (most recent call last)",
      "\u001b[0;32m<ipython-input-19-cd06699b0eb7>\u001b[0m in \u001b[0;36m<module>\u001b[0;34m\u001b[0m\n\u001b[1;32m      3\u001b[0m \u001b[0;34m\u001b[0m\u001b[0m\n\u001b[1;32m      4\u001b[0m \u001b[0;31m#XGBoost\u001b[0m\u001b[0;34m\u001b[0m\u001b[0;34m\u001b[0m\u001b[0;34m\u001b[0m\u001b[0m\n\u001b[0;32m----> 5\u001b[0;31m \u001b[0mxgb_mdl\u001b[0m \u001b[0;34m=\u001b[0m \u001b[0mXGBClassifier\u001b[0m\u001b[0;34m(\u001b[0m\u001b[0mnthread\u001b[0m\u001b[0;34m=\u001b[0m\u001b[0;34m-\u001b[0m\u001b[0;36m1\u001b[0m\u001b[0;34m)\u001b[0m\u001b[0;34m.\u001b[0m\u001b[0mfit\u001b[0m\u001b[0;34m(\u001b[0m\u001b[0mX_Train\u001b[0m\u001b[0;34m.\u001b[0m\u001b[0mvalues\u001b[0m\u001b[0;34m,\u001b[0m\u001b[0my_Train\u001b[0m\u001b[0;34m.\u001b[0m\u001b[0mvalues\u001b[0m\u001b[0;34m)\u001b[0m\u001b[0;34m\u001b[0m\u001b[0;34m\u001b[0m\u001b[0m\n\u001b[0m\u001b[1;32m      6\u001b[0m \u001b[0mxgb_mdl\u001b[0m\u001b[0;34m\u001b[0m\u001b[0;34m\u001b[0m\u001b[0m\n",
      "\u001b[0;31mNameError\u001b[0m: name 'X_Train' is not defined"
     ]
    }
   ],
   "source": [
    "from sklearn.ensemble import RandomForestClassifier\n",
    "from xgboost import XGBClassifier\n",
    "\n",
    "#XGBoost\n",
    "xgb_mdl = XGBClassifier(nthread=-1).fit(X_Train.values,y_Train.values)\n",
    "xgb_mdl"
   ]
  },
  {
   "cell_type": "code",
   "execution_count": 20,
   "metadata": {},
   "outputs": [
    {
     "output_type": "error",
     "ename": "NameError",
     "evalue": "name 'xgb_mdl' is not defined",
     "traceback": [
      "\u001b[0;31m---------------------------------------------------------------------------\u001b[0m",
      "\u001b[0;31mNameError\u001b[0m                                 Traceback (most recent call last)",
      "\u001b[0;32m<ipython-input-20-c51350a536a0>\u001b[0m in \u001b[0;36m<module>\u001b[0;34m\u001b[0m\n\u001b[1;32m      1\u001b[0m \u001b[0;32mfrom\u001b[0m \u001b[0msklearn\u001b[0m\u001b[0;34m.\u001b[0m\u001b[0mmetrics\u001b[0m \u001b[0;32mimport\u001b[0m \u001b[0mclassification_report\u001b[0m\u001b[0;34m,\u001b[0m \u001b[0mroc_auc_score\u001b[0m\u001b[0;34m,\u001b[0m \u001b[0mconfusion_matrix\u001b[0m\u001b[0;34m,\u001b[0m \u001b[0maverage_precision_score\u001b[0m\u001b[0;34m\u001b[0m\u001b[0;34m\u001b[0m\u001b[0m\n\u001b[1;32m      2\u001b[0m \u001b[0;34m\u001b[0m\u001b[0m\n\u001b[0;32m----> 3\u001b[0;31m \u001b[0my_pred_train\u001b[0m \u001b[0;34m=\u001b[0m \u001b[0mxgb_mdl\u001b[0m\u001b[0;34m.\u001b[0m\u001b[0mpredict\u001b[0m\u001b[0;34m(\u001b[0m\u001b[0mX_Train\u001b[0m\u001b[0;34m.\u001b[0m\u001b[0mvalues\u001b[0m\u001b[0;34m)\u001b[0m\u001b[0;34m\u001b[0m\u001b[0;34m\u001b[0m\u001b[0m\n\u001b[0m\u001b[1;32m      4\u001b[0m \u001b[0my_pred\u001b[0m \u001b[0;34m=\u001b[0m \u001b[0mxgb_mdl\u001b[0m\u001b[0;34m.\u001b[0m\u001b[0mpredict\u001b[0m\u001b[0;34m(\u001b[0m\u001b[0mX_Test\u001b[0m\u001b[0;34m.\u001b[0m\u001b[0mvalues\u001b[0m\u001b[0;34m)\u001b[0m\u001b[0;34m\u001b[0m\u001b[0;34m\u001b[0m\u001b[0m\n\u001b[1;32m      5\u001b[0m \u001b[0;34m\u001b[0m\u001b[0m\n",
      "\u001b[0;31mNameError\u001b[0m: name 'xgb_mdl' is not defined"
     ]
    }
   ],
   "source": [
    "from sklearn.metrics import classification_report, roc_auc_score, confusion_matrix, average_precision_score\n",
    "\n",
    "y_pred_train = xgb_mdl.predict(X_Train.values)\n",
    "y_pred = xgb_mdl.predict(X_Test.values)\n",
    "\n",
    "print(\"Train Data Classification Report:\\n\")\n",
    "print(classification_report(y_Train,y_pred_train))\n",
    "\n",
    "print(\"Test Data Classification Report:\\n\")\n",
    "print(classification_report(y_Test,y_pred))\n",
    "\n",
    "cm = pd.DataFrame(confusion_matrix(y_Test, y_pred))#, index = list(set(y)), columns = list(set(y)))\n",
    ""
   ]
  },
  {
   "cell_type": "code",
   "execution_count": 21,
   "metadata": {},
   "outputs": [
    {
     "output_type": "error",
     "ename": "NameError",
     "evalue": "name 'cm' is not defined",
     "traceback": [
      "\u001b[0;31m---------------------------------------------------------------------------\u001b[0m",
      "\u001b[0;31mNameError\u001b[0m                                 Traceback (most recent call last)",
      "\u001b[0;32m<ipython-input-21-d95e7e125bdc>\u001b[0m in \u001b[0;36m<module>\u001b[0;34m\u001b[0m\n\u001b[0;32m----> 1\u001b[0;31m \u001b[0mcm\u001b[0m\u001b[0;34m\u001b[0m\u001b[0;34m\u001b[0m\u001b[0m\n\u001b[0m",
      "\u001b[0;31mNameError\u001b[0m: name 'cm' is not defined"
     ]
    }
   ],
   "source": [
    "cm"
   ]
  },
  {
   "cell_type": "code",
   "execution_count": 22,
   "metadata": {},
   "outputs": [
    {
     "output_type": "error",
     "ename": "NameError",
     "evalue": "name 'y_Test' is not defined",
     "traceback": [
      "\u001b[0;31m---------------------------------------------------------------------------\u001b[0m",
      "\u001b[0;31mNameError\u001b[0m                                 Traceback (most recent call last)",
      "\u001b[0;32m<ipython-input-22-7bd8a55505b4>\u001b[0m in \u001b[0;36m<module>\u001b[0;34m\u001b[0m\n\u001b[0;32m----> 1\u001b[0;31m \u001b[0mset\u001b[0m\u001b[0;34m(\u001b[0m\u001b[0my_Test\u001b[0m\u001b[0;34m)\u001b[0m\u001b[0;34m\u001b[0m\u001b[0;34m\u001b[0m\u001b[0m\n\u001b[0m",
      "\u001b[0;31mNameError\u001b[0m: name 'y_Test' is not defined"
     ]
    }
   ],
   "source": [
    "set(y_Test)"
   ]
  },
  {
   "cell_type": "code",
   "execution_count": null,
   "metadata": {},
   "outputs": [],
   "source": []
  }
 ],
 "metadata": {
  "kernelspec": {
   "display_name": "Python 3",
   "language": "python",
   "name": "python3"
  },
  "language_info": {
   "codemirror_mode": {
    "name": "ipython",
    "version": 2
   },
   "file_extension": ".py",
   "mimetype": "text/x-python",
   "name": "python",
   "nbconvert_exporter": "python",
   "pygments_lexer": "ipython2",
   "version": "3.7.6-final"
  },
  "pycharm": {
   "stem_cell": {
    "cell_type": "raw",
    "source": [],
    "metadata": {
     "collapsed": false
    }
   }
  }
 },
 "nbformat": 4,
 "nbformat_minor": 0
}