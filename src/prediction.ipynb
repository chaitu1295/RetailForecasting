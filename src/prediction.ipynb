{
 "cells": [
  {
   "cell_type": "code",
   "execution_count": null,
   "outputs": [],
   "source": [
    "import pandas as pd\n",
    "import seaborn as sns\n",
    "import matplotlib.pyplot as plt"
   ],
   "metadata": {
    "collapsed": false,
    "pycharm": {
     "name": "#%%\n",
     "is_executing": false
    }
   }
  },
  {
   "cell_type": "code",
   "execution_count": null,
   "metadata": {
    "pycharm": {
     "is_executing": false,
     "name": "#%%\n"
    }
   },
   "outputs": [],
   "source": [
    "total_data=pd.read_csv(\"../data/total_data.csv\",index_col=0)\n",
    "total_data_demographic=pd.read_csv(\"../data/total_data_demographic.csv\",index_col=0)"
   ]
  },
  {
   "cell_type": "code",
   "execution_count": null,
   "metadata": {},
   "outputs": [],
   "source": [
    "total_data[['customer_id','PRODUCT_ID','DAY']].groupby(['customer_id','PRODUCT_ID']).count().sort_values(by='DAY')"
   ]
  },
  {
   "cell_type": "code",
   "execution_count": null,
   "metadata": {},
   "outputs": [],
   "source": [
    "a=total_data[['customer_id','DAY','PRODUCT_ID','WEEK_NO']]\n",
    "a.customer_id=a.customer_id.transform(lambda x: str(x))"
   ]
  },
  {
   "cell_type": "code",
   "execution_count": null,
   "metadata": {},
   "outputs": [],
   "source": [
    "encoded = pd.get_dummies(a.customer_id,prefix='bought_by')\n",
    "b=pd.concat([a,encoded],axis=1)"
   ]
  },
  {
   "cell_type": "code",
   "execution_count": null,
   "metadata": {},
   "outputs": [],
   "source": [
    "# b['last_purchase_day']=b.groupby(['customer_id','PRODUCT_ID'])['DAY'].shift()"
   ]
  },
  {
   "cell_type": "code",
   "execution_count": null,
   "metadata": {},
   "outputs": [],
   "source": [
    "b.drop('customer_id',inplace=True,axis=1)"
   ]
  },
  {
   "cell_type": "code",
   "execution_count": null,
   "metadata": {},
   "outputs": [],
   "source": [
    "b=b.groupby(['DAY','PRODUCT_ID','WEEK_NO'],as_index=False).sum()"
   ]
  },
  {
   "cell_type": "code",
   "execution_count": null,
   "metadata": {},
   "outputs": [],
   "source": [
    "product_data=pd.read_csv(\"../dataset/product.csv\")"
   ]
  },
  {
   "cell_type": "code",
   "execution_count": null,
   "metadata": {},
   "outputs": [],
   "source": [
    "total_data=pd.merge(product_data[['PRODUCT_ID','DEPARTMENT','BRAND','COMMODITY_DESC','SUB_COMMODITY_DESC']],b,on='PRODUCT_ID')"
   ]
  },
  {
   "cell_type": "code",
   "execution_count": null,
   "metadata": {},
   "outputs": [],
   "source": [
    "total_data"
   ]
  },
  {
   "cell_type": "code",
   "execution_count": null,
   "metadata": {},
   "outputs": [],
   "source": [
    "future=product_data.copy()\n",
    "filtered_product_ids=list(set(total_data.PRODUCT_ID))"
   ]
  },
  {
   "cell_type": "code",
   "execution_count": null,
   "metadata": {},
   "outputs": [],
   "source": [
    "future=future[future['PRODUCT_ID'].isin(filtered_product_ids)]\n",
    "future=future[['PRODUCT_ID', 'DEPARTMENT', 'BRAND', 'COMMODITY_DESC','SUB_COMMODITY_DESC']]\n",
    "future['DAY']=713\n",
    "future['WEEK_NO']=103"
   ]
  },
  {
   "cell_type": "code",
   "execution_count": null,
   "metadata": {},
   "outputs": [],
   "source": [
    "for i in range(6):\n",
    "    future_day=future.copy()\n",
    "    future_day['DAY']=i+714\n",
    "    future=pd.concat([future,future_day])#,on=['PRODUCT_ID',\t'DEPARTMENT',\t'BRAND',\t'COMMODITY_DESC','SUB_COMMODITY_DESC'])"
   ]
  },
  {
   "cell_type": "code",
   "execution_count": null,
   "metadata": {},
   "outputs": [],
   "source": [
    "future=future.reindex(columns=total_data.columns.tolist(),fill_value=0)"
   ]
  },
  {
   "cell_type": "code",
   "execution_count": null,
   "metadata": {},
   "outputs": [],
   "source": [
    "future"
   ]
  },
  {
   "cell_type": "code",
   "execution_count": null,
   "metadata": {},
   "outputs": [],
   "source": [
    "def train_test_split(X,y,test_size=0.25,val_size=.2):\n",
    "    y=y.astype('float64')\n",
    "    X_test_Split=int((X.shape[0])*(test_size+val_size))\n",
    "    X_val_Split=int((X.shape[0])*val_size)\n",
    "    y_test_Split=int((y.shape[0])*(test_size+val_size))\n",
    "    y_val_Split=int((y.shape[0])*val_size)\n",
    "    print(X_test_Split,X_val_Split,y_test_Split,y_val_Split)\n",
    "    X_Train=X[: -X_test_Split]\n",
    "    X_Test=X[-X_test_Split:-X_val_Split]\n",
    "    X_Val=X[-X_val_Split:]\n",
    "    y_Train=y[: -y_test_Split]\n",
    "    y_Test=y[-y_test_Split:-y_val_Split]\n",
    "    y_Val=y[-y_val_Split:]\n",
    "    return [X_Train, X_Test,X_Val, y_Train, y_Test,y_Val]"
   ]
  },
  {
   "cell_type": "code",
   "execution_count": null,
   "metadata": {},
   "outputs": [],
   "source": [
    "#one hot encoding categorical data for modelling\n",
    "encoded = pd.get_dummies(total_data[total_data.columns[total_data.dtypes==object]])\n",
    "total_data_encoded = pd.concat([encoded, total_data[total_data.columns[total_data.dtypes != object]]],axis=1)\n",
    "\n",
    "X = total_data_encoded.drop('bought_by_2337',axis=1)\n",
    "y = total_data_encoded['bought_by_2337']\n",
    "future=future.drop('bought_by_2337',axis=1).reset_index()\n",
    "[X_Train, X_Test,X_Val, y_Train, y_Test,y_Val] = train_test_split(X,y,test_size=0.2,val_size=.2)"
   ]
  },
  {
   "cell_type": "code",
   "execution_count": null,
   "metadata": {},
   "outputs": [],
   "source": [
    "from sklearn.ensemble import RandomForestClassifier\n",
    "from xgboost import XGBRegressor\n",
    "\n",
    "#XGBoost\n",
    "xgb_mdl = XGBRegressor(nthread=-1).fit(X_Train.values,y_Train.values)\n",
    "xgb_mdl"
   ]
  },
  {
   "cell_type": "code",
   "execution_count": null,
   "metadata": {},
   "outputs": [],
   "source": [
    "encoded = pd.get_dummies(future[future.columns[future.dtypes==object]])\n",
    "future_encoded = pd.concat([encoded, future[future.columns[future.dtypes != object]]],axis=1)"
   ]
  },
  {
   "cell_type": "code",
   "execution_count": null,
   "metadata": {},
   "outputs": [],
   "source": [
    "future_pred = xgb_mdl.predict(future_encoded.values)"
   ]
  },
  {
   "cell_type": "code",
   "execution_count": null,
   "metadata": {},
   "outputs": [],
   "source": [
    "future_pred"
   ]
  },
  {
   "cell_type": "code",
   "execution_count": null,
   "metadata": {},
   "outputs": [],
   "source": [
    "future=future[['PRODUCT_ID'\t,'DEPARTMENT'\t,'BRAND'\t,'COMMODITY_DESC'\t,'SUB_COMMODITY_DESC',\t'DAY',\t'WEEK_NO']]"
   ]
  },
  {
   "cell_type": "code",
   "execution_count": null,
   "metadata": {},
   "outputs": [],
   "source": [
    "future['PREDICTION']=future_pred"
   ]
  },
  {
   "cell_type": "code",
   "execution_count": null,
   "metadata": {},
   "outputs": [],
   "source": [
    "temp=future.groupby('DAY')"
   ]
  },
  {
   "cell_type": "code",
   "execution_count": null,
   "metadata": {},
   "outputs": [],
   "source": [
    "day_suggestions=future.sort_values(['DAY','PREDICTION'],ascending=False).groupby(['DAY'\t,'WEEK_NO']).head(5).sort_values(['PRODUCT_ID','DAY'])"
   ]
  },
  {
   "cell_type": "code",
   "execution_count": null,
   "metadata": {},
   "outputs": [],
   "source": [
    "day_suggestions[day_suggestions['DAY']==713]"
   ]
  },
  {
   "cell_type": "code",
   "execution_count": null,
   "metadata": {},
   "outputs": [],
   "source": []
  },
  {
   "cell_type": "code",
   "execution_count": null,
   "metadata": {},
   "outputs": [],
   "source": [
    "# y_pred_train = xgb_mdl.predict(X_Train.values)\n",
    "# y_pred = xgb_mdl.predict(X_Test.values)"
   ]
  },
  {
   "cell_type": "code",
   "execution_count": null,
   "metadata": {},
   "outputs": [],
   "source": [
    "# ans=y_pred\n",
    "# temp=[0 if(x<.02) else 1 for x in (ans*100).astype(int)/100 ]"
   ]
  },
  {
   "cell_type": "code",
   "execution_count": null,
   "metadata": {},
   "outputs": [],
   "source": [
    "# import numpy as np\n",
    "# from sklearn.metrics.pairwise import cosine_similarity\n",
    "\n",
    "# a = np.array(y_Test).reshape(1,-1)\n",
    "# b = np.array(temp).reshape(1,-1)\n",
    "\n",
    "# cosine_similarity(a,b)"
   ]
  },
  {
   "cell_type": "code",
   "execution_count": null,
   "metadata": {},
   "outputs": [],
   "source": [
    "# from sklearn.metrics import classification_report, roc_auc_score, confusion_matrix, average_precision_score\n",
    "\n",
    "# print(\"Train Data Classification Report:\\n\")\n",
    "# print(classification_report(y_Train,y_pred_train))\n",
    "\n",
    "# print(\"Test Data Classification Report:\\n\")\n",
    "# print(classification_report(y_Test,y_pred))\n",
    "\n",
    "# cm = pd.DataFrame(confusion_matrix(y_Test, y_pred))#, index = list(set(y)), columns = list(set(y)))\n"
   ]
  },
  {
   "cell_type": "code",
   "execution_count": null,
   "metadata": {},
   "outputs": [],
   "source": [
    "# cm = pd.DataFrame(confusion_matrix(y_Test, y_pred))#, index = list(set(y)), columns = list(set(y)))\n",
    "# cm"
   ]
  },
  {
   "cell_type": "code",
   "execution_count": null,
   "metadata": {},
   "outputs": [],
   "source": [
    "future[(future.PRODUCT_ID in filtered_product_ids).item()]"
   ]
  },
  {
   "cell_type": "code",
   "execution_count": null,
   "metadata": {},
   "outputs": [],
   "source": [
    "filtered_product_ids=list(set(total_data.PRODUCT_ID))"
   ]
  }
 ],
 "metadata": {
  "kernelspec": {
   "display_name": "Python 3",
   "language": "python",
   "name": "python3"
  },
  "language_info": {
   "codemirror_mode": {
    "name": "ipython",
    "version": 2
   },
   "file_extension": ".py",
   "mimetype": "text/x-python",
   "name": "python",
   "nbconvert_exporter": "python",
   "pygments_lexer": "ipython2",
   "version": "3.7.6-final"
  },
  "pycharm": {
   "stem_cell": {
    "cell_type": "raw",
    "source": [],
    "metadata": {
     "collapsed": false
    }
   }
  }
 },
 "nbformat": 4,
 "nbformat_minor": 0
}